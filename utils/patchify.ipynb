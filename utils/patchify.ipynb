{
 "cells": [
  {
   "cell_type": "code",
   "execution_count": 1,
   "metadata": {},
   "outputs": [],
   "source": [
    "import numpy as np\n",
    "import cv2 as cv\n",
    "import sys\n",
    "sys.path.append(\"../\")\n",
    "from matplotlib import pyplot as plt\n",
    "from apt.quadtree import FixedQuadTree"
   ]
  },
  {
   "cell_type": "code",
   "execution_count": null,
   "metadata": {},
   "outputs": [],
   "source": [
    "# img = cv.imread('/Users/zhangenzhi/work/gvit-1/dataset/paip/output_images_and_masks/128700-2019-01-00-03-01/rescaled_image_0_512x512.png')\n",
    "# img = cv.imread('/Volumes/data/dataset/paip/output_images_and_masks/153100-2019-01-00-03-01/rescaled_image_0_512x512.png')\n",
    "# img = cv.imread('/Volumes/data/dataset/miccai/rescale-images-16384/rescaled_image_0_16384x16384.png')\n",
    "# img = cv.imread('/Volumes/data/dataset/test/n04525038_35823.JPEG')\n",
    "img = cv.imread('/Volumes/Extreme/dataset/paip/output_images_and_masks/128700-2019-01-00-03-01/rescaled_image_0_512x512.png')\n",
    "# img = cv.imread('/Users/zhangenzhi/work/apt/dataset/paip_image.png')\n",
    "\n",
    "img = cv.resize(img, (512,512))\n",
    "print(img.shape)\n",
    "grey_img = cv.GaussianBlur(img, (3,3), 0)\n",
    "print(grey_img.shape)\n",
    "edges = cv.Canny(grey_img, 20, 50)\n",
    "print(edges.shape)\n",
    "\n",
    "plt.subplot(121),plt.imshow(grey_img)\n",
    "plt.title('Original Image'), plt.xticks([]), plt.yticks([])\n",
    "plt.subplot(122),plt.imshow(edges,cmap = 'gray')\n",
    "plt.title('Edge Image'), plt.xticks([]), plt.yticks([])\n",
    "plt.show()"
   ]
  },
  {
   "cell_type": "code",
   "execution_count": null,
   "metadata": {},
   "outputs": [],
   "source": [
    "fig, ax = plt.subplots()\n",
    "ax.imshow(edges, cmap = 'gray')\n",
    "qdt = FixedQuadTree(domain=edges, fixed_length=514)\n",
    "qdt.draw(ax=ax)\n",
    "ax.axis('off')\n",
    "plt.show()\n",
    "print(qdt.count_patches())\n",
    "plt.close()"
   ]
  },
  {
   "cell_type": "code",
   "execution_count": null,
   "metadata": {},
   "outputs": [],
   "source": [
    "# Z-order plot\n",
    "fig, ax = plt.subplots()\n",
    "ax.imshow(edges, cmap = 'gray')\n",
    "# qdt = FixedQuadTree(domain=edges, fixed_length=424)\n",
    "ax.axis('off')\n",
    "qdt.draw(ax=ax)\n",
    "qdt.draw_zorder(ax=ax)\n",
    "plt.show()\n",
    "print(qdt.count_patches())\n",
    "plt.close()"
   ]
  },
  {
   "cell_type": "code",
   "execution_count": null,
   "metadata": {},
   "outputs": [],
   "source": [
    "qdt.encode_nodes()"
   ]
  },
  {
   "cell_type": "code",
   "execution_count": 6,
   "metadata": {},
   "outputs": [],
   "source": [
    "def patchify(mask, patch_size=8, channel=3):\n",
    "    seq = qdt.serialize(mask, size=(patch_size, patch_size, channel))\n",
    "    return seq\n",
    "\n",
    "def depatchify(seq, patch_size=8, channel=3):\n",
    "    # mask = np.zeros(shape=(512, 512, 3))\n",
    "    mask = qdt.deserialize(seq, patch_size=patch_size, channel=channel)\n",
    "    return mask\n",
    "\n",
    "# mask=img\n",
    "# seq = patchify(mask=mask)\n",
    "\n",
    "# fig, ax = plt.subplots()\n",
    "# mask= depatchify(seq=np.asarray(seq), channel=3)\n",
    "# mask = mask.astype(np.uint8)\n",
    "# ax.imshow(mask, cmap = 'gray')\n",
    "# plt.show()\n",
    "# plt.close()"
   ]
  },
  {
   "cell_type": "code",
   "execution_count": 7,
   "metadata": {},
   "outputs": [],
   "source": [
    "# np.asarray(seq).shape"
   ]
  },
  {
   "cell_type": "code",
   "execution_count": null,
   "metadata": {},
   "outputs": [],
   "source": [
    "mask = cv.imread('/Volumes/Extreme/dataset/paip/output_images_and_masks/128700-2019-01-00-03-01/rescaled_mask_0_512x512.png')\n",
    "# mask = cv.imread('/Volumes/data/dataset/miccai/rescale-masks-16384/rescaled_image_0_16384x16384.png')\n",
    "# mask = cv.imread('/Volumes/data/dataset/paip/output_images_and_masks/153100-2019-01-00-03-01/rescaled_mask_0_512x512.png')\n",
    "# mask = cv.imread('/Users/zhangenzhi/work/gvit-1/dataset/paip/output_images_and_masks/128700-2019-01-00-03-01/rescaled_mask_0_512x512.png')\n",
    "# mask = cv.imread('/Users/zhangenzhi/work/apt/dataset/paip_mask.png')\n",
    "mask = cv.resize(mask, (512, 512))\n",
    "# mask = mask[:,:,0]\n",
    "mask = mask.reshape((512, 512, 3))\n",
    "print(mask.shape)\n",
    "\n",
    "seq = patchify(mask=mask, patch_size=8, channel=3)\n",
    "print(np.asarray(seq).shape)\n",
    "\n",
    "plt.subplot(121)\n",
    "plt.imshow(mask)\n",
    "mask= depatchify(seq=seq, patch_size=8, channel=3)\n",
    "mask = mask.astype(int)\n",
    "plt.subplot(122)\n",
    "plt.imshow(mask)\n",
    "ax.imshow(mask, cmap = 'gray')\n",
    "plt.show()\n",
    "plt.close()\n"
   ]
  },
  {
   "cell_type": "code",
   "execution_count": null,
   "metadata": {},
   "outputs": [],
   "source": [
    "mask.shape"
   ]
  },
  {
   "cell_type": "code",
   "execution_count": null,
   "metadata": {},
   "outputs": [],
   "source": [
    "# Area plot\n",
    "canvas = np.zeros([512,512,3],dtype=np.uint8)\n",
    "canvas.fill(255) # or img[:] = 255\n",
    "\n",
    "fig, ax = plt.subplots()\n",
    "ax.imshow(canvas, cmap = 'gray')\n",
    "qdt.draw_area(ax=ax, lw=3)\n",
    "# Hide the axes\n",
    "ax.axis('off')\n",
    "plt.show()\n",
    "print(qdt.count_patches())\n",
    "plt.close()"
   ]
  },
  {
   "cell_type": "code",
   "execution_count": null,
   "metadata": {},
   "outputs": [],
   "source": [
    "# Rescale plot\n",
    "canvas = np.zeros([512,512,3],dtype=np.uint8)\n",
    "canvas.fill(255) # or img[:] = 255\n",
    "\n",
    "fig, ax = plt.subplots()\n",
    "ax.imshow(canvas, cmap = 'gray')\n",
    "qdt.draw_rescale(ax=ax, lw=3)\n",
    "# Hide the axes\n",
    "ax.axis('off')\n",
    "plt.show()\n",
    "print(qdt.count_patches())\n",
    "plt.close()"
   ]
  }
 ],
 "metadata": {
  "kernelspec": {
   "display_name": "gvit",
   "language": "python",
   "name": "python3"
  },
  "language_info": {
   "codemirror_mode": {
    "name": "ipython",
    "version": 3
   },
   "file_extension": ".py",
   "mimetype": "text/x-python",
   "name": "python",
   "nbconvert_exporter": "python",
   "pygments_lexer": "ipython3",
   "version": "3.10.13"
  }
 },
 "nbformat": 4,
 "nbformat_minor": 2
}
