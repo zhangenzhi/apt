{
 "cells": [
  {
   "cell_type": "code",
   "execution_count": null,
   "metadata": {},
   "outputs": [],
   "source": [
    "import numpy as np\n",
    "import cv2 as cv\n",
    "import sys\n",
    "sys.path.append(\"../\")\n",
    "from matplotlib import pyplot as plt\n",
    "from apt.quadtree import FixedQuadTree"
   ]
  },
  {
   "cell_type": "code",
   "execution_count": null,
   "metadata": {},
   "outputs": [],
   "source": [
    "# img = cv.imread('/Users/zhangenzhi/work/gvit-1/dataset/paip/output_images_and_masks/128700-2019-01-00-03-01/rescaled_image_0_512x512.png')\n",
    "img = cv.imread('/Volumes/data/dataset/paip/output_images_and_masks/128700-2019-01-00-03-01/rescaled_image_0_512x512.png')\n",
    "# img = cv.imread('/Volumes/Extreme/dataset/paip/output_images_and_masks/128700-2019-01-00-03-01/rescaled_image_0_512x512.png')\n",
    "\n",
    "\n",
    "grey_img = cv.GaussianBlur(img, (1,1), 0)\n",
    "edges = cv.Canny(grey_img, 80, 110)\n",
    "# resized_image = cv.resize(img, (8192,8192))\n",
    "\n",
    "plt.subplot(121),plt.imshow(grey_img)\n",
    "plt.title('Original Image'), plt.xticks([]), plt.yticks([])\n",
    "plt.subplot(122),plt.imshow(edges,cmap = 'gray')\n",
    "plt.title('Edge Image'), plt.xticks([]), plt.yticks([])\n",
    "plt.show()"
   ]
  },
  {
   "cell_type": "code",
   "execution_count": null,
   "metadata": {},
   "outputs": [],
   "source": [
    "fig, ax = plt.subplots()\n",
    "ax.imshow(edges, cmap = 'gray')\n",
    "qdt = FixedQuadTree(domain=edges, fixed_length=1024)\n",
    "qdt.draw(ax=ax)\n",
    "plt.show()\n",
    "print(qdt.count_patches())\n",
    "plt.close()"
   ]
  },
  {
   "cell_type": "code",
   "execution_count": null,
   "metadata": {},
   "outputs": [],
   "source": [
    "qdt.encode_nodes()"
   ]
  },
  {
   "cell_type": "code",
   "execution_count": null,
   "metadata": {},
   "outputs": [],
   "source": [
    "def patchify(mask,patch_size=8,channel=3):\n",
    "    seq = qdt.serialize(mask, size=(patch_size,patch_size,channel))\n",
    "    return seq\n",
    "\n",
    "def depatchify(seq, patch_size=8, channel=3):\n",
    "    # mask = np.zeros(shape=(512, 512, 3))\n",
    "    mask = qdt.deserialize(seq, patch_size=patch_size, channel=channel)\n",
    "    return mask\n",
    "\n",
    "mask=img\n",
    "seq = patchify(mask=mask)\n",
    "\n",
    "fig, ax = plt.subplots()\n",
    "mask= depatchify(seq=np.asarray(seq))\n",
    "mask = mask.astype(np.uint8)\n",
    "ax.imshow(mask, cmap = 'gray')\n",
    "plt.show()\n",
    "plt.close()"
   ]
  },
  {
   "cell_type": "code",
   "execution_count": null,
   "metadata": {},
   "outputs": [],
   "source": [
    "# mask = cv.imread('/Volumes/Extreme/dataset/paip/output_images_and_masks/128700-2019-01-00-03-01/rescaled_mask_0_512x512.png')\n",
    "mask = cv.imread('/Volumes/data/dataset/paip/output_images_and_masks/128700-2019-01-00-03-01/rescaled_mask_0_512x512.png')\n",
    "mask = cv.resize(mask, (512, 512))\n",
    "\n",
    "seq = patchify(mask=mask, patch_size=8, channel=3)\n",
    "\n",
    "plt.subplot(121)\n",
    "plt.imshow(mask)\n",
    "mask= depatchify(seq=seq, patch_size=8, channel=3)\n",
    "mask = mask.astype(int)\n",
    "plt.subplot(122)\n",
    "plt.imshow(mask)\n",
    "ax.imshow(mask, cmap = 'gray')\n",
    "plt.show()\n",
    "plt.close()\n"
   ]
  },
  {
   "cell_type": "code",
   "execution_count": null,
   "metadata": {},
   "outputs": [],
   "source": [
    "np.asarray(seq).shape\n",
    "mask.shape"
   ]
  }
 ],
 "metadata": {
  "kernelspec": {
   "display_name": "gvit",
   "language": "python",
   "name": "python3"
  },
  "language_info": {
   "codemirror_mode": {
    "name": "ipython",
    "version": 3
   },
   "file_extension": ".py",
   "mimetype": "text/x-python",
   "name": "python",
   "nbconvert_exporter": "python",
   "pygments_lexer": "ipython3",
   "version": "3.11.8"
  }
 },
 "nbformat": 4,
 "nbformat_minor": 2
}
